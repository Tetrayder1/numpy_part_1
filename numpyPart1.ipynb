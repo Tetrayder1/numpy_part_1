{
 "cells": [
  {
   "cell_type": "code",
   "execution_count": 2,
   "id": "e6e105e0-6e3c-4eb2-b7d3-04c87e07d82f",
   "metadata": {},
   "outputs": [],
   "source": [
    "import numpy as np"
   ]
  },
  {
   "cell_type": "code",
   "execution_count": 13,
   "id": "beb2601c-42a9-47aa-a982-91d84ed2df6f",
   "metadata": {},
   "outputs": [
    {
     "name": "stdout",
     "output_type": "stream",
     "text": [
      "[[1 2 3]\n",
      " [4 5 6]\n",
      " [7 8 9]]\n"
     ]
    }
   ],
   "source": [
    "#array yaratmaq \n",
    "arr1=np.array([[1,2,3],[4,5,6],[7,8,9]])\n",
    "print(arr1)#[[1 2 3][4 5 6][7 8 9]]"
   ]
  },
  {
   "cell_type": "code",
   "execution_count": 14,
   "id": "65ffd13a-bcfe-4245-9eac-32c5f569ed70",
   "metadata": {},
   "outputs": [
    {
     "name": "stdout",
     "output_type": "stream",
     "text": [
      "2\n",
      "(3, 3)\n",
      "9\n",
      "int32\n"
     ]
    }
   ],
   "source": [
    "#array xüsusiyyətərini örgənmək üçün\n",
    "print(arr1.ndim)#2 (2D array)\n",
    "print(arr1.shape) #(row,column)\n",
    "print(arr1.size) # 9 ümumi element sayı\n",
    "print(arr1.dtype) #int32"
   ]
  },
  {
   "cell_type": "code",
   "execution_count": 15,
   "id": "a1c4eec5-addb-4b30-a18f-1354d0308ff9",
   "metadata": {},
   "outputs": [
    {
     "name": "stdout",
     "output_type": "stream",
     "text": [
      "[[0. 0. 0. 0.]\n",
      " [0. 0. 0. 0.]]\n"
     ]
    }
   ],
   "source": [
    " #array yaratmaq metodlari\n",
    "zeros1=np.zeros((2,4)) #bütün elementləri 0.(float type) dan olan 2,4 matris yaratdı\n",
    "print (zeros1)#[[0. 0. 0. 0.][0. 0. 0. 0.]]"
   ]
  },
  {
   "cell_type": "code",
   "execution_count": 16,
   "id": "497c75ee-4bfb-43db-8364-5aff1ec8570c",
   "metadata": {},
   "outputs": [
    {
     "name": "stdout",
     "output_type": "stream",
     "text": [
      "[[1. 1.]\n",
      " [1. 1.]\n",
      " [1. 1.]]\n"
     ]
    }
   ],
   "source": [
    "ones1=np.ones((3,2))#bütün elementləri 1.(float type) dan olan 3,2 matris yaratdı\n",
    "print(ones1)#[[1. 1.][1. 1.][1. 1.]]"
   ]
  },
  {
   "cell_type": "code",
   "execution_count": 17,
   "id": "fa7f3d1a-8642-492d-b290-1fb3d66c3816",
   "metadata": {},
   "outputs": [
    {
     "name": "stdout",
     "output_type": "stream",
     "text": [
      "[ 0  3  6  9 12 15 18]\n"
     ]
    }
   ],
   "source": [
    "arange1=np.arange(0,21,3) # 0-dan başlayaraq 21 -ə qədər  üç-üç addımlayaraq bir massiv(array) yaratdı\n",
    "print(arange1)#[ 0  3  6  9 12 15 18]"
   ]
  },
  {
   "cell_type": "code",
   "execution_count": 21,
   "id": "dbbbda8b-0c01-40b2-847d-942953c5a87c",
   "metadata": {},
   "outputs": [
    {
     "name": "stdout",
     "output_type": "stream",
     "text": [
      "[  0.  25.  50.  75. 100.]\n"
     ]
    }
   ],
   "source": [
    "linspace=np.linspace(0,100,5) #0-la  100 -arasında ,0-la yüz daxil olmaqla beş eyni məsafədə olan eded yaradaraq bunları bir massivə yazır\n",
    "print(linspace)#[  0.  25.  50.  75. 100.]"
   ]
  },
  {
   "cell_type": "code",
   "execution_count": 24,
   "id": "8ddc4429-0e4a-4e15-9a5b-02b8651833a3",
   "metadata": {},
   "outputs": [
    {
     "name": "stdout",
     "output_type": "stream",
     "text": [
      "[[1. 0. 0. 0.]\n",
      " [0. 1. 0. 0.]\n",
      " [0. 0. 1. 0.]\n",
      " [0. 0. 0. 1.]]\n"
     ]
    }
   ],
   "source": [
    "eye1=np.eye(4)#dioqanalı 1 lər dən ibarət olan kvadrat matris yaradır\n",
    "print(eye1)#[[1. 0. 0. 0.] [0. 1. 0. 0.][0. 0. 1. 0.][0. 0. 0. 1.]]"
   ]
  },
  {
   "cell_type": "code",
   "execution_count": 33,
   "id": "56ff96e7-b433-41ce-aa2c-ffb36f5a1816",
   "metadata": {},
   "outputs": [
    {
     "name": "stdout",
     "output_type": "stream",
     "text": [
      "[ 2  5  8 11 14 17 20 23 26 29 32]\n",
      "[[ 3.          5.33333333  7.66666667 10.        ]\n",
      " [ 0.         25.         50.         75.        ]]\n"
     ]
    }
   ],
   "source": [
    "#Indexing and Slicing\n",
    "arr2=np.arange(2,34,3)\n",
    "print(arr2)#[ 2  5  8 11 14 17 20 23 26 29 32]\n",
    "arr3=np.array([np.linspace(3,10,4),np.linspace(0,75,4)])\n",
    "print(arr3)#[[ 3. 5.33333333  7.66666667 10.        ][ 0.         25.         50.         75.        ]]"
   ]
  },
  {
   "cell_type": "code",
   "execution_count": 38,
   "id": "83851704-d3d4-475a-9b4b-168efb90ff35",
   "metadata": {},
   "outputs": [
    {
     "name": "stdout",
     "output_type": "stream",
     "text": [
      "11\n",
      "32\n",
      "50.0\n",
      "75.0\n"
     ]
    }
   ],
   "source": [
    "#indexing\n",
    "print(arr2[3])#11\n",
    "print(arr2[-1])#32\n",
    "print(arr3[1,2])#50.0\n",
    "print(arr3[-1,-1])#75.0"
   ]
  },
  {
   "cell_type": "code",
   "execution_count": 42,
   "id": "492bbf3a-81e2-4550-a020-c8c6a2e03b04",
   "metadata": {},
   "outputs": [
    {
     "name": "stdout",
     "output_type": "stream",
     "text": [
      "[5 8]\n",
      "[ 2  5  8 11 14 17 20 23 26 29]\n",
      "[11 14 17 20 23 26 29 32]\n",
      "[ 2  5  8 11 14 17 20 23 26 29 32]\n",
      "[ 8 11 14]\n"
     ]
    }
   ],
   "source": [
    "#Slice 2D\n",
    "print(arr2[1:3])#[5 8]\n",
    "print(arr2[:-1])#[ 2  5  8 11 14 17 20 23 26 29]\n",
    "print(arr2[3:]) #[11 14 17 20 23 26 29 32]\n",
    "print(arr2[:])  #[ 2  5  8 11 14 17 20 23 26 29 32]\\\n",
    "print(arr2[[2,3,4]])#[8,11,14]"
   ]
  },
  {
   "cell_type": "code",
   "execution_count": 57,
   "id": "3429c0ef-2f4d-49b1-af29-0855b40c6f2f",
   "metadata": {},
   "outputs": [
    {
     "name": "stdout",
     "output_type": "stream",
     "text": [
      "[ 0. 25. 50.]\n",
      "[5.33333333 7.66666667]\n",
      "[ 7.66666667 10.        ]\n"
     ]
    }
   ],
   "source": [
    "#Slice 3D\n",
    "print(arr3[1,:3]) #[ 0. 25. 50.]# 1-3 sətir arası , 0-3 sütunlar arasında olan bütün dəyərlər\n",
    "print(arr3[0,1:-1])#[5.33333333 7.66666667]\n",
    "print(arr3[0,[2,3]])#[ 7.66666667 10.        ]"
   ]
  },
  {
   "cell_type": "code",
   "execution_count": 59,
   "id": "ee10f7b0-0b1e-464d-b0f5-a5299f8e36a4",
   "metadata": {},
   "outputs": [
    {
     "name": "stdout",
     "output_type": "stream",
     "text": [
      "[23 26 29 32]\n",
      "[10.  0. 50.]\n"
     ]
    }
   ],
   "source": [
    "#Condition indexing\n",
    "print(arr2[arr2>20])#[23 26 29 32]\n",
    "print(arr3[arr3%2==0])#[10.  0. 50.]"
   ]
  },
  {
   "cell_type": "code",
   "execution_count": 71,
   "id": "33111216-345f-467e-92bf-4f5283ac1e04",
   "metadata": {},
   "outputs": [
    {
     "name": "stdout",
     "output_type": "stream",
     "text": [
      "[   1331  248832 4826809]\n",
      "[33 60 78]\n",
      "[14 17 19]\n",
      "[8 7 7]\n",
      "[3.66666667 2.4        2.16666667]\n"
     ]
    }
   ],
   "source": [
    "#Array  operations\n",
    "#bunalar for döngüsündən daha sürətlidir\n",
    "#yalnız shape -ləri eyni olamalıdır\n",
    "a=np.array([11,12,13])\n",
    "b=np.array([3,5,6,])\n",
    "print(a**b)#[   1331  248832 4826809]\n",
    "print(a*b)#[33 60 78]\n",
    "print(a+b)#[14 17 19]\n",
    "print(a-b)#[8 7 7]\n",
    "print(a/b)#[3.66666667 2.4        2.16666667]"
   ]
  },
  {
   "cell_type": "code",
   "execution_count": 73,
   "id": "ddad64b7-7c10-464b-bff7-240b756a21eb",
   "metadata": {},
   "outputs": [
    {
     "name": "stdout",
     "output_type": "stream",
     "text": [
      "[[ 4.          6.33333333  8.66666667 11.        ]\n",
      " [ 2.         27.         52.         77.        ]]\n"
     ]
    }
   ],
   "source": [
    "# Broadcasting: kiçik ölçülü massiv böyük ölçülü massivə “uyğunlaşır”.\n",
    "arr_small=np.array([[1],[2]])\n",
    "print(arr3+arr_small)"
   ]
  },
  {
   "cell_type": "code",
   "execution_count": 87,
   "id": "53d24058-d37b-4574-9c49-28d67a6f2613",
   "metadata": {},
   "outputs": [
    {
     "name": "stdout",
     "output_type": "stream",
     "text": [
      "[  2  32  62  92 122 152 182 212 242 272 302]\n",
      "1672\n",
      "1672\n",
      "152.0\n",
      "152.0\n",
      "94.86832980505137\n",
      "9000.0\n",
      "2\n",
      "302\n",
      "10\n",
      "0\n"
     ]
    }
   ],
   "source": [
    "#Statistik və Riyazi funksiyalar\n",
    "data=np.arange(2,324,30)\n",
    "print(data)#[  2  32  62  92 122 152 182 212 242 272 302]\n",
    "print(data.sum())#1672 cəm\n",
    "print(np.sum(data))#1672 cəm\n",
    "print(np.median(data))#152.0 median\n",
    "print(np.mean(data))#152.0 ədədi orta\n",
    "print(np.std(data))#94.86832980505137 standart sapma\n",
    "print(np.var(data))#9000.0 varians ,standart sapmanın kvadratı\n",
    "print(np.min(data))#2\n",
    "print(np.max(data))#302\n",
    "print(np.argmax(data))#10  böyük ədədin indexi \n",
    "print(np.argmin(data))#0 kiçik ədədin indexi"
   ]
  },
  {
   "cell_type": "code",
   "execution_count": null,
   "id": "b61777c3-a261-41ce-8440-3465c8a4fbc8",
   "metadata": {},
   "outputs": [],
   "source": []
  }
 ],
 "metadata": {
  "kernelspec": {
   "display_name": "Python 3 (ipykernel)",
   "language": "python",
   "name": "python3"
  },
  "language_info": {
   "codemirror_mode": {
    "name": "ipython",
    "version": 3
   },
   "file_extension": ".py",
   "mimetype": "text/x-python",
   "name": "python",
   "nbconvert_exporter": "python",
   "pygments_lexer": "ipython3",
   "version": "3.12.7"
  }
 },
 "nbformat": 4,
 "nbformat_minor": 5
}
